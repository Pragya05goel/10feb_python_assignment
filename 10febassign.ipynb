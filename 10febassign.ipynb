{
 "cells": [
  {
   "cell_type": "markdown",
   "id": "eddd6a77-091c-4109-bee0-5f4e2cc77d8e",
   "metadata": {},
   "source": [
    "# ASSIGNMENT"
   ]
  },
  {
   "cell_type": "markdown",
   "id": "ac365d41-64cb-458f-b2f4-1b6ea91586f9",
   "metadata": {},
   "source": [
    "Q1. Which function is used to open a file? What are the different modes of opening a file? Explain each mode of file opening."
   ]
  },
  {
   "cell_type": "markdown",
   "id": "d2e562b2-c259-46f4-9a9c-b1f52a9658db",
   "metadata": {},
   "source": [
    "open() function is used to open a file. It is a built-in function that allows you to work with files in various modes.\n",
    "The open() function takes at least one argument, which is the name or path of the file you want to open. Additionally, we can specify the mode in which you want to open the file.\n",
    "\n",
    "The different modes of opening a file in Python are:\n",
    "\n",
    "'r' - Read Mode: This is the default mode. It opens the file for reading only. If the file does not exist, it raises a FileNotFoundError exception. You can read the contents of the file using methods like read(), readline(), or readlines(). Example: open('file.txt', 'r').\n",
    "\n",
    "'w' - Write Mode: It opens the file for writing. If the file already exists, it truncates its contents. If the file does not exist, it creates a new file. You can write to the file using the write() method. Example: open('file.txt', 'w').\n",
    "\n",
    "'a' - Append Mode: It opens the file for appending. If the file already exists, it appends the new data at the end of the file. If the file does not exist, it creates a new file. You can use the write() method to append data. Example: open('file.txt', 'a').\n",
    "\n",
    "'x' - Exclusive Creation Mode: It opens the file for exclusive creation, failing if the file already exists. It raises a FileExistsError if the file exists. You can write to the file using the write() method. Example: open('file.txt', 'x').\n",
    "\n",
    "'b' - Binary Mode: This mode is used for binary files. It can be combined with other modes, such as 'rb' (read in binary mode) or 'wb' (write in binary mode). Example: open('file.txt', 'rb').\n",
    "\n",
    "'t' - Text Mode: This mode is used for text files. It is the default mode, so you don't need to specify it explicitly. It can be combined with other modes, such as 'rt' (read in text mode) or 'wt' (write in text mode). Example: open('file.txt', 'rt').\n",
    "\n",
    "These modes can be combined by specifying multiple characters. For example, 'rb' opens the file in binary mode for reading, while 'w+' opens the file for reading and writing, truncating the file if it exists.\n",
    "\n",
    "It's important to note that when we are done with a file, we should always close it using the close() method to release system resources. Alternatively, we can use the file object within a with statement, which automatically handles the closing of the file for you.\n"
   ]
  },
  {
   "cell_type": "markdown",
   "id": "bc47cfce-e37e-4eaa-8af7-3ad8b1c90e5a",
   "metadata": {},
   "source": [
    "Q2. Why close() function is used? Why is it important to close a file?"
   ]
  },
  {
   "cell_type": "markdown",
   "id": "a8c61a64-6a16-4aa3-8ade-b23d987dd998",
   "metadata": {},
   "source": [
    "The close() function is used to close a file in Python. It is an important practice to close a file after you have finished working with it.\n",
    "\n",
    "It is important to close a file because:\n",
    "\n",
    "Resource Management: When we open a file, the operating system allocates certain resources to maintain the connection between our program and the file. These resources include file buffers, file table entries, and file descriptors. By closing the file, we release these resources, ensuring efficient resource management. Failing to close a file can lead to resource leaks, especially if our program opens a large number of files or runs for an extended period.\n",
    "\n",
    "Data Integrity: Closing a file ensures that any pending writes or updates to the file are properly flushed and committed. When we write data to a file, it is often buffered in memory until a certain threshold is reached, or until the file is closed. If we don't close the file, the data may not be written to the file, resulting in data loss or incomplete writes.\n",
    "\n",
    "File Locking: In some operating systems, a file may be locked by a process while it is open. Closing the file releases the lock, allowing other processes or programs to access and modify the file. Keeping a file open unnecessarily may prevent other programs from working with the file, leading to conflicts or delays.\n",
    "\n",
    "Performance: Opening and closing a file involve system calls and I/O operations, which can have an impact on performance, especially if we repeatedly open and close files within a loop or in a resource-intensive application. By closing files as soon as we are done with them, we optimize the usage of system resources and improve the overall performance of our program.\n",
    "\n",
    "To ensure proper file handling, it is considered a best practice to close a file explicitly after we have finished reading from or writing to it. Alternatively, we can use the file object within a with statement, which automatically handles the closing of the file for you when you exit the block. "
   ]
  },
  {
   "cell_type": "markdown",
   "id": "16485932-00e9-49df-8fda-b1d765c7c9b1",
   "metadata": {},
   "source": [
    "Q3. Write a python program to create a text file. Write ‘I want to become a Data Scientist’ in that file. Then close the file. Open this file and read the content of the file."
   ]
  },
  {
   "cell_type": "code",
   "execution_count": 1,
   "id": "308507de-165f-421d-afb5-01c99bc68f6e",
   "metadata": {},
   "outputs": [],
   "source": [
    "with open(\"test.txt\",\"w\") as f:\n",
    "    f.write(\"I want to become a Data Scientist\")\n",
    "    f.close()"
   ]
  },
  {
   "cell_type": "code",
   "execution_count": 2,
   "id": "8160c0f6-166f-4d56-b3b7-d4f0bec8210f",
   "metadata": {},
   "outputs": [],
   "source": [
    "data=open(\"test.txt\",\"r\")"
   ]
  },
  {
   "cell_type": "code",
   "execution_count": 3,
   "id": "cf1d9c17-b1b4-46c7-87d3-09ca6dc70b9a",
   "metadata": {},
   "outputs": [
    {
     "data": {
      "text/plain": [
       "'I want to become a Data Scientist'"
      ]
     },
     "execution_count": 3,
     "metadata": {},
     "output_type": "execute_result"
    }
   ],
   "source": [
    "data.read()"
   ]
  },
  {
   "cell_type": "markdown",
   "id": "c2d108ec-e796-4cf3-8735-44e88a2f7822",
   "metadata": {},
   "source": [
    "Q4. Explain the following with python code: read(), readline() and readlines()."
   ]
  },
  {
   "cell_type": "markdown",
   "id": "2b272526-6330-45fb-95e3-b6a0850528fa",
   "metadata": {},
   "source": [
    "read():The read() method reads the entire content of a file and returns it as a string."
   ]
  },
  {
   "cell_type": "code",
   "execution_count": 4,
   "id": "794b0358-9801-4d04-bab3-18e7457da454",
   "metadata": {},
   "outputs": [],
   "source": [
    "with open(\"test1.txt\",\"w\") as f:\n",
    "    f.write(\"Data Science Masters course is highly curated and uniquely designed \\n according to the latest industry standards. This program instills students the skills essential to knowledge discovery efforts to identify standard, novel, and truly differentiated solutions and decision-making, including skills in managing, querying,\\n analyzing, visualizing, and extracting meaning from extremely large data sets. This trending program provides students with the statistical, mathematical and computational skills \\n needed to meet the large-scale data science challenges of today's professional world. You will learn all the stack required to work in data science industry including cloud infrastructure and real-time industry projects.\")"
   ]
  },
  {
   "cell_type": "code",
   "execution_count": 5,
   "id": "1fbc25fe-5673-4f77-80f9-89bee77c9f6d",
   "metadata": {},
   "outputs": [],
   "source": [
    "f.close()"
   ]
  },
  {
   "cell_type": "code",
   "execution_count": 6,
   "id": "558bd8e9-83b8-4259-a2a7-ee62a3083e13",
   "metadata": {},
   "outputs": [
    {
     "data": {
      "text/plain": [
       "\"Data Science Masters course is highly curated and uniquely designed \\n according to the latest industry standards. This program instills students the skills essential to knowledge discovery efforts to identify standard, novel, and truly differentiated solutions and decision-making, including skills in managing, querying,\\n analyzing, visualizing, and extracting meaning from extremely large data sets. This trending program provides students with the statistical, mathematical and computational skills \\n needed to meet the large-scale data science challenges of today's professional world. You will learn all the stack required to work in data science industry including cloud infrastructure and real-time industry projects.\""
      ]
     },
     "execution_count": 6,
     "metadata": {},
     "output_type": "execute_result"
    }
   ],
   "source": [
    "data1=open(\"test1.txt\",\"r\")\n",
    "data1.read()"
   ]
  },
  {
   "cell_type": "markdown",
   "id": "71eee721-2940-48e5-9be0-c6fb80799dee",
   "metadata": {},
   "source": [
    "readline():The readline() method reads a single line from the file and returns it as a string. Each time you call readline(), it moves the file pointer to the next line."
   ]
  },
  {
   "cell_type": "code",
   "execution_count": 7,
   "id": "73af25d2-1037-46ce-b385-8495579b244b",
   "metadata": {},
   "outputs": [
    {
     "data": {
      "text/plain": [
       "0"
      ]
     },
     "execution_count": 7,
     "metadata": {},
     "output_type": "execute_result"
    }
   ],
   "source": [
    "data1.seek(0)"
   ]
  },
  {
   "cell_type": "code",
   "execution_count": 8,
   "id": "ca35ab78-4a63-4733-a80e-f07b21c5aaf8",
   "metadata": {},
   "outputs": [
    {
     "data": {
      "text/plain": [
       "'Data Science Masters course is highly curated and uniquely designed \\n'"
      ]
     },
     "execution_count": 8,
     "metadata": {},
     "output_type": "execute_result"
    }
   ],
   "source": [
    "data1.readline()"
   ]
  },
  {
   "cell_type": "markdown",
   "id": "496cd4d8-8300-4a9e-a9d2-607d93a0444a",
   "metadata": {},
   "source": [
    "readlines():The readlines() method reads all the lines of the file and returns them as a list of strings. Each line in the file becomes an element in the list."
   ]
  },
  {
   "cell_type": "code",
   "execution_count": 9,
   "id": "0ebcea6d-9dde-44f9-b7a8-71c15db1324a",
   "metadata": {},
   "outputs": [
    {
     "data": {
      "text/plain": [
       "0"
      ]
     },
     "execution_count": 9,
     "metadata": {},
     "output_type": "execute_result"
    }
   ],
   "source": [
    "data1.seek(0)"
   ]
  },
  {
   "cell_type": "code",
   "execution_count": 10,
   "id": "cf1e1296-c840-43d4-bdc9-f6c446330b90",
   "metadata": {},
   "outputs": [
    {
     "data": {
      "text/plain": [
       "['Data Science Masters course is highly curated and uniquely designed \\n',\n",
       " ' according to the latest industry standards. This program instills students the skills essential to knowledge discovery efforts to identify standard, novel, and truly differentiated solutions and decision-making, including skills in managing, querying,\\n',\n",
       " ' analyzing, visualizing, and extracting meaning from extremely large data sets. This trending program provides students with the statistical, mathematical and computational skills \\n',\n",
       " \" needed to meet the large-scale data science challenges of today's professional world. You will learn all the stack required to work in data science industry including cloud infrastructure and real-time industry projects.\"]"
      ]
     },
     "execution_count": 10,
     "metadata": {},
     "output_type": "execute_result"
    }
   ],
   "source": [
    "data1.readlines()"
   ]
  },
  {
   "cell_type": "code",
   "execution_count": 11,
   "id": "f887c626-535d-4a3f-8280-7fb69391be40",
   "metadata": {},
   "outputs": [
    {
     "data": {
      "text/plain": [
       "0"
      ]
     },
     "execution_count": 11,
     "metadata": {},
     "output_type": "execute_result"
    }
   ],
   "source": [
    "data1.seek(0)"
   ]
  },
  {
   "cell_type": "code",
   "execution_count": 12,
   "id": "489728c5-7803-435a-b322-404b93d83a4c",
   "metadata": {},
   "outputs": [
    {
     "data": {
      "text/plain": [
       "' according to the latest industry standards. This program instills students the skills essential to knowledge discovery efforts to identify standard, novel, and truly differentiated solutions and decision-making, including skills in managing, querying,\\n'"
      ]
     },
     "execution_count": 12,
     "metadata": {},
     "output_type": "execute_result"
    }
   ],
   "source": [
    "data1.readlines()[1]"
   ]
  },
  {
   "cell_type": "markdown",
   "id": "1c8f5d21-e50e-442e-9e47-7a5147c6c795",
   "metadata": {},
   "source": [
    "Q5. Explain why with statement is used with open(). What is the advantage of using with statement and open() together?"
   ]
  },
  {
   "cell_type": "markdown",
   "id": "7740d7a4-cbe4-459d-b432-e5d8c2bee161",
   "metadata": {},
   "source": [
    "The with statement in Python is used with the open() function to provide a more convenient and reliable way of working with files. It ensures that the file is automatically closed after you have finished working with it, regardless of whether an exception occurs or not.\n",
    "The advantage of using the with statement with open() is as follows:\n",
    "\n",
    "Automatic Resource Management: The with statement guarantees that the file will be properly closed when the block of code inside the with statement is exited, regardless of whether an exception occurs or not. This ensures proper resource management and eliminates the need to explicitly call the close() method. It helps prevent resource leaks and ensures that system resources are efficiently managed.\n",
    "\n",
    "Exception Handling: If an exception occurs within the with block, the with statement will automatically handle the exception and close the file. It ensures that the file is closed even if an error occurs during file operations. This simplifies error handling and reduces the chances of leaving files open due to unhandled exceptions.\n",
    "\n",
    "Cleaner Code: Using the with statement makes the code cleaner and more readable. It clearly indicates the scope in which the file is being used, making it easier to understand and maintain. It eliminates the need for explicit close() calls and reduces the chances of forgetting to close a file after use."
   ]
  },
  {
   "cell_type": "markdown",
   "id": "a56f8559-135b-4062-90ce-841dd852082a",
   "metadata": {},
   "source": [
    "Q6. Explain the write() and writelines() functions. Give a suitable example."
   ]
  },
  {
   "cell_type": "markdown",
   "id": "caac8c9b-4b8f-48d2-b102-1335a82873e0",
   "metadata": {},
   "source": [
    "write():The write() function is used to write a string of characters to a file. It appends the specified string at the end of the file or overwrites the existing content, depending on the mode in which the file is opened."
   ]
  },
  {
   "cell_type": "code",
   "execution_count": 13,
   "id": "2751a902-8da8-4af4-92e7-9c0780bd1c8b",
   "metadata": {},
   "outputs": [],
   "source": [
    "with open(\"test2.txt\",\"w\") as f:\n",
    "    f.write(\"Data Science Masters course is highly curated and uniquely designed according to the latest industry standards. This program instills students the skills essential to knowledge discovery efforts to identify standard, novel, and truly differentiated solutions and decision-making, including skills in managing, querying, analyzing, visualizing.\")"
   ]
  },
  {
   "cell_type": "code",
   "execution_count": 14,
   "id": "cd31125d-be8c-420f-88a7-271cdca0cd12",
   "metadata": {},
   "outputs": [],
   "source": [
    "f.close()"
   ]
  },
  {
   "cell_type": "code",
   "execution_count": 15,
   "id": "7e93a147-9282-4b45-a459-e9834e7b5bad",
   "metadata": {},
   "outputs": [
    {
     "data": {
      "text/plain": [
       "'Data Science Masters course is highly curated and uniquely designed according to the latest industry standards. This program instills students the skills essential to knowledge discovery efforts to identify standard, novel, and truly differentiated solutions and decision-making, including skills in managing, querying, analyzing, visualizing.'"
      ]
     },
     "execution_count": 15,
     "metadata": {},
     "output_type": "execute_result"
    }
   ],
   "source": [
    "data_write=open(\"test2.txt\",\"r\")\n",
    "data_write.read()"
   ]
  },
  {
   "cell_type": "markdown",
   "id": "9de18acc-f531-4d23-ac19-3a512f80e1b1",
   "metadata": {},
   "source": [
    "writelines():The writelines() function is used to write a sequence of strings to a file. It takes an iterable (such as a list or tuple) of strings and writes each string as a separate line in the file."
   ]
  },
  {
   "cell_type": "code",
   "execution_count": 16,
   "id": "aa943511-adc8-4c38-93f4-10d19e153f74",
   "metadata": {},
   "outputs": [],
   "source": [
    "# Open the file in write mode\n",
    "file = open('file.txt', 'w')\n",
    "\n",
    "# Create a list of strings\n",
    "lines = [\"Line 1\\n\", \"Line 2\\n\", \"Line 3\\n\"]\n",
    "\n",
    "# Write the list of strings to the file\n",
    "file.writelines(lines)\n",
    "\n",
    "# Close the file\n",
    "file.close()\n"
   ]
  },
  {
   "cell_type": "code",
   "execution_count": 17,
   "id": "89bb0790-2d46-42aa-84a5-fd32ad7be561",
   "metadata": {},
   "outputs": [
    {
     "data": {
      "text/plain": [
       "'Line 1\\nLine 2\\nLine 3\\n'"
      ]
     },
     "execution_count": 17,
     "metadata": {},
     "output_type": "execute_result"
    }
   ],
   "source": [
    "data_writelines=open(\"file.txt\",\"r\")\n",
    "data_writelines.read()"
   ]
  },
  {
   "cell_type": "markdown",
   "id": "dab3be07-e89e-4bbd-80d0-48b9f56c0372",
   "metadata": {},
   "source": [
    "------------"
   ]
  },
  {
   "cell_type": "code",
   "execution_count": null,
   "id": "b2169636-2c44-4ea4-8c07-6a2019fd4b9f",
   "metadata": {},
   "outputs": [],
   "source": []
  }
 ],
 "metadata": {
  "kernelspec": {
   "display_name": "Python 3 (ipykernel)",
   "language": "python",
   "name": "python3"
  },
  "language_info": {
   "codemirror_mode": {
    "name": "ipython",
    "version": 3
   },
   "file_extension": ".py",
   "mimetype": "text/x-python",
   "name": "python",
   "nbconvert_exporter": "python",
   "pygments_lexer": "ipython3",
   "version": "3.10.8"
  }
 },
 "nbformat": 4,
 "nbformat_minor": 5
}
